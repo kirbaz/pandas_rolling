{
 "cells": [
  {
   "cell_type": "code",
   "execution_count": 1,
   "id": "8eda2fa9",
   "metadata": {},
   "outputs": [],
   "source": [
    "import pandas as pd\n",
    "import seaborn as sns\n",
    "import numpy as np"
   ]
  },
  {
   "cell_type": "code",
   "execution_count": 2,
   "id": "e2670e28",
   "metadata": {},
   "outputs": [],
   "source": [
    "sns.set(\n",
    "        font_scale=2,\n",
    "        style='whitegrid',\n",
    "        rc={'figure.figsize':(20,7)}\n",
    "        )"
   ]
  },
  {
   "cell_type": "code",
   "execution_count": 54,
   "id": "d9719bc6",
   "metadata": {},
   "outputs": [],
   "source": [
    "ads_data = pd.read_csv('c:\\\\temp\\\\ads_data.csv',delimiter=',',encoding='Windows-1251')\n",
    "ads_client = pd.read_csv('c:\\\\temp\\\\ads_clients_data.csv',delimiter=',',encoding='Windows-1251')"
   ]
  },
  {
   "cell_type": "code",
   "execution_count": 5,
   "id": "6f0e0e3d",
   "metadata": {},
   "outputs": [
    {
     "data": {
      "text/html": [
       "<div>\n",
       "<style scoped>\n",
       "    .dataframe tbody tr th:only-of-type {\n",
       "        vertical-align: middle;\n",
       "    }\n",
       "\n",
       "    .dataframe tbody tr th {\n",
       "        vertical-align: top;\n",
       "    }\n",
       "\n",
       "    .dataframe thead th {\n",
       "        text-align: right;\n",
       "    }\n",
       "</style>\n",
       "<table border=\"1\" class=\"dataframe\">\n",
       "  <thead>\n",
       "    <tr style=\"text-align: right;\">\n",
       "      <th></th>\n",
       "      <th>date</th>\n",
       "      <th>time</th>\n",
       "      <th>event</th>\n",
       "      <th>platform</th>\n",
       "      <th>ad_id</th>\n",
       "      <th>client_union_id</th>\n",
       "      <th>campaign_union_id</th>\n",
       "      <th>ad_cost_type</th>\n",
       "      <th>ad_cost</th>\n",
       "      <th>has_video</th>\n",
       "      <th>target_audience_count</th>\n",
       "    </tr>\n",
       "  </thead>\n",
       "  <tbody>\n",
       "    <tr>\n",
       "      <th>0</th>\n",
       "      <td>2019-04-01</td>\n",
       "      <td>2019-04-01 00:00:48</td>\n",
       "      <td>view</td>\n",
       "      <td>android</td>\n",
       "      <td>45061</td>\n",
       "      <td>34734</td>\n",
       "      <td>45061</td>\n",
       "      <td>CPM</td>\n",
       "      <td>200.6</td>\n",
       "      <td>0</td>\n",
       "      <td>1955269</td>\n",
       "    </tr>\n",
       "    <tr>\n",
       "      <th>1</th>\n",
       "      <td>2019-04-01</td>\n",
       "      <td>2019-04-01 00:00:48</td>\n",
       "      <td>view</td>\n",
       "      <td>web</td>\n",
       "      <td>121288</td>\n",
       "      <td>121288</td>\n",
       "      <td>121288</td>\n",
       "      <td>CPM</td>\n",
       "      <td>187.4</td>\n",
       "      <td>0</td>\n",
       "      <td>232011</td>\n",
       "    </tr>\n",
       "    <tr>\n",
       "      <th>2</th>\n",
       "      <td>2019-04-01</td>\n",
       "      <td>2019-04-01 00:01:03</td>\n",
       "      <td>view</td>\n",
       "      <td>android</td>\n",
       "      <td>102737</td>\n",
       "      <td>102535</td>\n",
       "      <td>102564</td>\n",
       "      <td>CPC</td>\n",
       "      <td>60.7</td>\n",
       "      <td>0</td>\n",
       "      <td>4410</td>\n",
       "    </tr>\n",
       "    <tr>\n",
       "      <th>3</th>\n",
       "      <td>2019-04-01</td>\n",
       "      <td>2019-04-01 00:01:03</td>\n",
       "      <td>view</td>\n",
       "      <td>android</td>\n",
       "      <td>107564</td>\n",
       "      <td>106914</td>\n",
       "      <td>107564</td>\n",
       "      <td>CPM</td>\n",
       "      <td>217.3</td>\n",
       "      <td>0</td>\n",
       "      <td>62711</td>\n",
       "    </tr>\n",
       "    <tr>\n",
       "      <th>4</th>\n",
       "      <td>2019-04-01</td>\n",
       "      <td>2019-04-01 00:01:09</td>\n",
       "      <td>view</td>\n",
       "      <td>android</td>\n",
       "      <td>4922</td>\n",
       "      <td>37</td>\n",
       "      <td>4400</td>\n",
       "      <td>CPC</td>\n",
       "      <td>60.1</td>\n",
       "      <td>0</td>\n",
       "      <td>1183501</td>\n",
       "    </tr>\n",
       "  </tbody>\n",
       "</table>\n",
       "</div>"
      ],
      "text/plain": [
       "         date                 time event platform   ad_id  client_union_id  \\\n",
       "0  2019-04-01  2019-04-01 00:00:48  view  android   45061            34734   \n",
       "1  2019-04-01  2019-04-01 00:00:48  view      web  121288           121288   \n",
       "2  2019-04-01  2019-04-01 00:01:03  view  android  102737           102535   \n",
       "3  2019-04-01  2019-04-01 00:01:03  view  android  107564           106914   \n",
       "4  2019-04-01  2019-04-01 00:01:09  view  android    4922               37   \n",
       "\n",
       "   campaign_union_id ad_cost_type  ad_cost  has_video  target_audience_count  \n",
       "0              45061          CPM    200.6          0                1955269  \n",
       "1             121288          CPM    187.4          0                 232011  \n",
       "2             102564          CPC     60.7          0                   4410  \n",
       "3             107564          CPM    217.3          0                  62711  \n",
       "4               4400          CPC     60.1          0                1183501  "
      ]
     },
     "execution_count": 5,
     "metadata": {},
     "output_type": "execute_result"
    }
   ],
   "source": [
    "ads_data.head()"
   ]
  },
  {
   "cell_type": "code",
   "execution_count": 26,
   "id": "9a6e923d",
   "metadata": {},
   "outputs": [],
   "source": [
    "ads_data_event = ads_data.groupby(['ad_id','event'],as_index=False).\\\n",
    "                    agg({'platform':'count'}).\\\n",
    "                    pivot(index='ad_id',columns='event',values='platform').reset_index().\\\n",
    "                    fillna(0)\n",
    "                "
   ]
  },
  {
   "cell_type": "code",
   "execution_count": 27,
   "id": "7623f582",
   "metadata": {},
   "outputs": [
    {
     "data": {
      "text/html": [
       "<div>\n",
       "<style scoped>\n",
       "    .dataframe tbody tr th:only-of-type {\n",
       "        vertical-align: middle;\n",
       "    }\n",
       "\n",
       "    .dataframe tbody tr th {\n",
       "        vertical-align: top;\n",
       "    }\n",
       "\n",
       "    .dataframe thead th {\n",
       "        text-align: right;\n",
       "    }\n",
       "</style>\n",
       "<table border=\"1\" class=\"dataframe\">\n",
       "  <thead>\n",
       "    <tr style=\"text-align: right;\">\n",
       "      <th>event</th>\n",
       "      <th>ad_id</th>\n",
       "      <th>click</th>\n",
       "      <th>view</th>\n",
       "    </tr>\n",
       "  </thead>\n",
       "  <tbody>\n",
       "    <tr>\n",
       "      <th>0</th>\n",
       "      <td>2</td>\n",
       "      <td>1.0</td>\n",
       "      <td>101.0</td>\n",
       "    </tr>\n",
       "    <tr>\n",
       "      <th>1</th>\n",
       "      <td>3</td>\n",
       "      <td>3.0</td>\n",
       "      <td>184.0</td>\n",
       "    </tr>\n",
       "    <tr>\n",
       "      <th>2</th>\n",
       "      <td>1902</td>\n",
       "      <td>1.0</td>\n",
       "      <td>41.0</td>\n",
       "    </tr>\n",
       "    <tr>\n",
       "      <th>3</th>\n",
       "      <td>2064</td>\n",
       "      <td>0.0</td>\n",
       "      <td>35.0</td>\n",
       "    </tr>\n",
       "    <tr>\n",
       "      <th>4</th>\n",
       "      <td>2132</td>\n",
       "      <td>1.0</td>\n",
       "      <td>58.0</td>\n",
       "    </tr>\n",
       "  </tbody>\n",
       "</table>\n",
       "</div>"
      ],
      "text/plain": [
       "event  ad_id  click   view\n",
       "0          2    1.0  101.0\n",
       "1          3    3.0  184.0\n",
       "2       1902    1.0   41.0\n",
       "3       2064    0.0   35.0\n",
       "4       2132    1.0   58.0"
      ]
     },
     "execution_count": 27,
     "metadata": {},
     "output_type": "execute_result"
    }
   ],
   "source": [
    "ads_data_event.head()"
   ]
  },
  {
   "cell_type": "code",
   "execution_count": 29,
   "id": "072fca5e",
   "metadata": {},
   "outputs": [
    {
     "data": {
      "text/plain": [
       "113.1378238341969"
      ]
     },
     "execution_count": 29,
     "metadata": {},
     "output_type": "execute_result"
    }
   ],
   "source": [
    "ads_data_event.click.mean()"
   ]
  },
  {
   "cell_type": "code",
   "execution_count": 30,
   "id": "75aad1d8",
   "metadata": {},
   "outputs": [
    {
     "data": {
      "text/plain": [
       "923.1316062176165"
      ]
     },
     "execution_count": 30,
     "metadata": {},
     "output_type": "execute_result"
    }
   ],
   "source": [
    "ads_data_event.view.mean()"
   ]
  },
  {
   "cell_type": "code",
   "execution_count": 35,
   "id": "96a9fb11",
   "metadata": {},
   "outputs": [],
   "source": [
    "log_view = np.log(ads_data_event['view'])"
   ]
  },
  {
   "cell_type": "code",
   "execution_count": 38,
   "id": "ca6549a2",
   "metadata": {},
   "outputs": [
    {
     "data": {
      "text/plain": [
       "<seaborn.axisgrid.FacetGrid at 0x1c1f08d3790>"
      ]
     },
     "execution_count": 38,
     "metadata": {},
     "output_type": "execute_result"
    },
    {
     "data": {
      "image/png": "[encoded data removed]",
      "text/plain": [
       "<Figure size 360x360 with 1 Axes>"
      ]
     },
     "metadata": {},
     "output_type": "display_data"
    }
   ],
   "source": [
    "sns.displot(log_view)"
   ]
  },
  {
   "cell_type": "code",
   "execution_count": 55,
   "id": "8f24af4a",
   "metadata": {},
   "outputs": [],
   "source": [
    "ads_client.create_date = pd.to_datetime(ads_client.create_date)\n",
    "ads_data.date = pd.to_datetime(ads_data.date)"
   ]
  },
  {
   "cell_type": "code",
   "execution_count": 56,
   "id": "eeaca900",
   "metadata": {},
   "outputs": [
    {
     "data": {
      "text/html": [
       "<div>\n",
       "<style scoped>\n",
       "    .dataframe tbody tr th:only-of-type {\n",
       "        vertical-align: middle;\n",
       "    }\n",
       "\n",
       "    .dataframe tbody tr th {\n",
       "        vertical-align: top;\n",
       "    }\n",
       "\n",
       "    .dataframe thead th {\n",
       "        text-align: right;\n",
       "    }\n",
       "</style>\n",
       "<table border=\"1\" class=\"dataframe\">\n",
       "  <thead>\n",
       "    <tr style=\"text-align: right;\">\n",
       "      <th></th>\n",
       "      <th>date</th>\n",
       "      <th>client_union_id</th>\n",
       "      <th>community_id</th>\n",
       "      <th>create_date</th>\n",
       "    </tr>\n",
       "  </thead>\n",
       "  <tbody>\n",
       "    <tr>\n",
       "      <th>0</th>\n",
       "      <td>2020-05-07</td>\n",
       "      <td>1</td>\n",
       "      <td>-130371893</td>\n",
       "      <td>2018-12-24</td>\n",
       "    </tr>\n",
       "    <tr>\n",
       "      <th>1</th>\n",
       "      <td>2020-05-07</td>\n",
       "      <td>2</td>\n",
       "      <td>-130304626</td>\n",
       "      <td>2019-02-10</td>\n",
       "    </tr>\n",
       "    <tr>\n",
       "      <th>2</th>\n",
       "      <td>2020-05-07</td>\n",
       "      <td>3</td>\n",
       "      <td>-130462599</td>\n",
       "      <td>2019-01-25</td>\n",
       "    </tr>\n",
       "    <tr>\n",
       "      <th>3</th>\n",
       "      <td>2020-05-07</td>\n",
       "      <td>4</td>\n",
       "      <td>-130574300</td>\n",
       "      <td>2018-12-09</td>\n",
       "    </tr>\n",
       "    <tr>\n",
       "      <th>4</th>\n",
       "      <td>2020-05-07</td>\n",
       "      <td>5</td>\n",
       "      <td>-130292358</td>\n",
       "      <td>2019-01-08</td>\n",
       "    </tr>\n",
       "  </tbody>\n",
       "</table>\n",
       "</div>"
      ],
      "text/plain": [
       "         date  client_union_id  community_id create_date\n",
       "0  2020-05-07                1    -130371893  2018-12-24\n",
       "1  2020-05-07                2    -130304626  2019-02-10\n",
       "2  2020-05-07                3    -130462599  2019-01-25\n",
       "3  2020-05-07                4    -130574300  2018-12-09\n",
       "4  2020-05-07                5    -130292358  2019-01-08"
      ]
     },
     "execution_count": 56,
     "metadata": {},
     "output_type": "execute_result"
    }
   ],
   "source": [
    "ads_client.head()"
   ]
  },
  {
   "cell_type": "code",
   "execution_count": 57,
   "id": "4769c721",
   "metadata": {},
   "outputs": [
    {
     "data": {
      "text/html": [
       "<div>\n",
       "<style scoped>\n",
       "    .dataframe tbody tr th:only-of-type {\n",
       "        vertical-align: middle;\n",
       "    }\n",
       "\n",
       "    .dataframe tbody tr th {\n",
       "        vertical-align: top;\n",
       "    }\n",
       "\n",
       "    .dataframe thead th {\n",
       "        text-align: right;\n",
       "    }\n",
       "</style>\n",
       "<table border=\"1\" class=\"dataframe\">\n",
       "  <thead>\n",
       "    <tr style=\"text-align: right;\">\n",
       "      <th></th>\n",
       "      <th>date</th>\n",
       "      <th>time</th>\n",
       "      <th>event</th>\n",
       "      <th>platform</th>\n",
       "      <th>ad_id</th>\n",
       "      <th>client_union_id</th>\n",
       "      <th>campaign_union_id</th>\n",
       "      <th>ad_cost_type</th>\n",
       "      <th>ad_cost</th>\n",
       "      <th>has_video</th>\n",
       "      <th>target_audience_count</th>\n",
       "    </tr>\n",
       "  </thead>\n",
       "  <tbody>\n",
       "    <tr>\n",
       "      <th>0</th>\n",
       "      <td>2019-04-01</td>\n",
       "      <td>2019-04-01 00:00:48</td>\n",
       "      <td>view</td>\n",
       "      <td>android</td>\n",
       "      <td>45061</td>\n",
       "      <td>34734</td>\n",
       "      <td>45061</td>\n",
       "      <td>CPM</td>\n",
       "      <td>200.6</td>\n",
       "      <td>0</td>\n",
       "      <td>1955269</td>\n",
       "    </tr>\n",
       "    <tr>\n",
       "      <th>1</th>\n",
       "      <td>2019-04-01</td>\n",
       "      <td>2019-04-01 00:00:48</td>\n",
       "      <td>view</td>\n",
       "      <td>web</td>\n",
       "      <td>121288</td>\n",
       "      <td>121288</td>\n",
       "      <td>121288</td>\n",
       "      <td>CPM</td>\n",
       "      <td>187.4</td>\n",
       "      <td>0</td>\n",
       "      <td>232011</td>\n",
       "    </tr>\n",
       "    <tr>\n",
       "      <th>2</th>\n",
       "      <td>2019-04-01</td>\n",
       "      <td>2019-04-01 00:01:03</td>\n",
       "      <td>view</td>\n",
       "      <td>android</td>\n",
       "      <td>102737</td>\n",
       "      <td>102535</td>\n",
       "      <td>102564</td>\n",
       "      <td>CPC</td>\n",
       "      <td>60.7</td>\n",
       "      <td>0</td>\n",
       "      <td>4410</td>\n",
       "    </tr>\n",
       "    <tr>\n",
       "      <th>3</th>\n",
       "      <td>2019-04-01</td>\n",
       "      <td>2019-04-01 00:01:03</td>\n",
       "      <td>view</td>\n",
       "      <td>android</td>\n",
       "      <td>107564</td>\n",
       "      <td>106914</td>\n",
       "      <td>107564</td>\n",
       "      <td>CPM</td>\n",
       "      <td>217.3</td>\n",
       "      <td>0</td>\n",
       "      <td>62711</td>\n",
       "    </tr>\n",
       "    <tr>\n",
       "      <th>4</th>\n",
       "      <td>2019-04-01</td>\n",
       "      <td>2019-04-01 00:01:09</td>\n",
       "      <td>view</td>\n",
       "      <td>android</td>\n",
       "      <td>4922</td>\n",
       "      <td>37</td>\n",
       "      <td>4400</td>\n",
       "      <td>CPC</td>\n",
       "      <td>60.1</td>\n",
       "      <td>0</td>\n",
       "      <td>1183501</td>\n",
       "    </tr>\n",
       "  </tbody>\n",
       "</table>\n",
       "</div>"
      ],
      "text/plain": [
       "        date                 time event platform   ad_id  client_union_id  \\\n",
       "0 2019-04-01  2019-04-01 00:00:48  view  android   45061            34734   \n",
       "1 2019-04-01  2019-04-01 00:00:48  view      web  121288           121288   \n",
       "2 2019-04-01  2019-04-01 00:01:03  view  android  102737           102535   \n",
       "3 2019-04-01  2019-04-01 00:01:03  view  android  107564           106914   \n",
       "4 2019-04-01  2019-04-01 00:01:09  view  android    4922               37   \n",
       "\n",
       "   campaign_union_id ad_cost_type  ad_cost  has_video  target_audience_count  \n",
       "0              45061          CPM    200.6          0                1955269  \n",
       "1             121288          CPM    187.4          0                 232011  \n",
       "2             102564          CPC     60.7          0                   4410  \n",
       "3             107564          CPM    217.3          0                  62711  \n",
       "4               4400          CPC     60.1          0                1183501  "
      ]
     },
     "execution_count": 57,
     "metadata": {},
     "output_type": "execute_result"
    }
   ],
   "source": [
    "ads_data.head()"
   ]
  },
  {
   "cell_type": "code",
   "execution_count": 58,
   "id": "4e644bbb",
   "metadata": {},
   "outputs": [],
   "source": [
    "ads_client = ads_client.rename(columns={'client_union_id':'ad_id'})"
   ]
  },
  {
   "cell_type": "code",
   "execution_count": 59,
   "id": "31fa1fd8",
   "metadata": {},
   "outputs": [
    {
     "data": {
      "text/plain": [
       "(122078, 4)"
      ]
     },
     "execution_count": 59,
     "metadata": {},
     "output_type": "execute_result"
    }
   ],
   "source": [
    "ads_client.shape"
   ]
  },
  {
   "cell_type": "code",
   "execution_count": 60,
   "id": "5fce8a29",
   "metadata": {},
   "outputs": [],
   "source": [
    "ads_merge = ads_data.groupby('ad_id',as_index=False).agg({'date':'min'}).\\\n",
    "            merge(ads_client, on='ad_id', how='left')"
   ]
  },
  {
   "cell_type": "code",
   "execution_count": 61,
   "id": "23466ee2",
   "metadata": {},
   "outputs": [
    {
     "data": {
      "text/html": [
       "<div>\n",
       "<style scoped>\n",
       "    .dataframe tbody tr th:only-of-type {\n",
       "        vertical-align: middle;\n",
       "    }\n",
       "\n",
       "    .dataframe tbody tr th {\n",
       "        vertical-align: top;\n",
       "    }\n",
       "\n",
       "    .dataframe thead th {\n",
       "        text-align: right;\n",
       "    }\n",
       "</style>\n",
       "<table border=\"1\" class=\"dataframe\">\n",
       "  <thead>\n",
       "    <tr style=\"text-align: right;\">\n",
       "      <th></th>\n",
       "      <th>ad_id</th>\n",
       "      <th>date_x</th>\n",
       "      <th>date_y</th>\n",
       "      <th>community_id</th>\n",
       "      <th>create_date</th>\n",
       "    </tr>\n",
       "  </thead>\n",
       "  <tbody>\n",
       "    <tr>\n",
       "      <th>0</th>\n",
       "      <td>2</td>\n",
       "      <td>2019-04-01</td>\n",
       "      <td>2020-05-07</td>\n",
       "      <td>-130304626</td>\n",
       "      <td>2019-02-10</td>\n",
       "    </tr>\n",
       "    <tr>\n",
       "      <th>1</th>\n",
       "      <td>3</td>\n",
       "      <td>2019-04-01</td>\n",
       "      <td>2020-05-07</td>\n",
       "      <td>-130462599</td>\n",
       "      <td>2019-01-25</td>\n",
       "    </tr>\n",
       "    <tr>\n",
       "      <th>2</th>\n",
       "      <td>1902</td>\n",
       "      <td>2019-04-03</td>\n",
       "      <td>2020-05-07</td>\n",
       "      <td>-130081277</td>\n",
       "      <td>2018-10-09</td>\n",
       "    </tr>\n",
       "    <tr>\n",
       "      <th>3</th>\n",
       "      <td>2064</td>\n",
       "      <td>2019-04-02</td>\n",
       "      <td>2020-05-07</td>\n",
       "      <td>-130847882</td>\n",
       "      <td>2019-02-14</td>\n",
       "    </tr>\n",
       "    <tr>\n",
       "      <th>4</th>\n",
       "      <td>2132</td>\n",
       "      <td>2019-04-03</td>\n",
       "      <td>2020-05-07</td>\n",
       "      <td>-130153297</td>\n",
       "      <td>2019-01-06</td>\n",
       "    </tr>\n",
       "  </tbody>\n",
       "</table>\n",
       "</div>"
      ],
      "text/plain": [
       "   ad_id     date_x      date_y  community_id create_date\n",
       "0      2 2019-04-01  2020-05-07    -130304626  2019-02-10\n",
       "1      3 2019-04-01  2020-05-07    -130462599  2019-01-25\n",
       "2   1902 2019-04-03  2020-05-07    -130081277  2018-10-09\n",
       "3   2064 2019-04-02  2020-05-07    -130847882  2019-02-14\n",
       "4   2132 2019-04-03  2020-05-07    -130153297  2019-01-06"
      ]
     },
     "execution_count": 61,
     "metadata": {},
     "output_type": "execute_result"
    }
   ],
   "source": [
    "ads_merge.head()"
   ]
  },
  {
   "cell_type": "code",
   "execution_count": 62,
   "id": "fad739a4",
   "metadata": {},
   "outputs": [],
   "source": [
    "ads_merge['razn'] = abs(ads_merge.create_date - ads_merge.date_x)"
   ]
  },
  {
   "cell_type": "code",
   "execution_count": 63,
   "id": "48b99584",
   "metadata": {},
   "outputs": [
    {
     "data": {
      "text/html": [
       "<div>\n",
       "<style scoped>\n",
       "    .dataframe tbody tr th:only-of-type {\n",
       "        vertical-align: middle;\n",
       "    }\n",
       "\n",
       "    .dataframe tbody tr th {\n",
       "        vertical-align: top;\n",
       "    }\n",
       "\n",
       "    .dataframe thead th {\n",
       "        text-align: right;\n",
       "    }\n",
       "</style>\n",
       "<table border=\"1\" class=\"dataframe\">\n",
       "  <thead>\n",
       "    <tr style=\"text-align: right;\">\n",
       "      <th></th>\n",
       "      <th>ad_id</th>\n",
       "      <th>date_x</th>\n",
       "      <th>date_y</th>\n",
       "      <th>community_id</th>\n",
       "      <th>create_date</th>\n",
       "      <th>razn</th>\n",
       "    </tr>\n",
       "  </thead>\n",
       "  <tbody>\n",
       "    <tr>\n",
       "      <th>32</th>\n",
       "      <td>10012</td>\n",
       "      <td>2019-04-05</td>\n",
       "      <td>2020-05-07</td>\n",
       "      <td>-130603160</td>\n",
       "      <td>2018-07-28</td>\n",
       "      <td>251 days</td>\n",
       "    </tr>\n",
       "    <tr>\n",
       "      <th>777</th>\n",
       "      <td>111525</td>\n",
       "      <td>2019-04-04</td>\n",
       "      <td>2020-05-07</td>\n",
       "      <td>-130799543</td>\n",
       "      <td>2018-07-28</td>\n",
       "      <td>250 days</td>\n",
       "    </tr>\n",
       "    <tr>\n",
       "      <th>320</th>\n",
       "      <td>35954</td>\n",
       "      <td>2019-04-04</td>\n",
       "      <td>2020-05-07</td>\n",
       "      <td>-130305568</td>\n",
       "      <td>2018-07-28</td>\n",
       "      <td>250 days</td>\n",
       "    </tr>\n",
       "    <tr>\n",
       "      <th>74</th>\n",
       "      <td>15685</td>\n",
       "      <td>2019-04-04</td>\n",
       "      <td>2020-05-07</td>\n",
       "      <td>-130687424</td>\n",
       "      <td>2018-07-29</td>\n",
       "      <td>249 days</td>\n",
       "    </tr>\n",
       "    <tr>\n",
       "      <th>105</th>\n",
       "      <td>18034</td>\n",
       "      <td>2019-04-04</td>\n",
       "      <td>2020-05-07</td>\n",
       "      <td>-130811305</td>\n",
       "      <td>2018-07-30</td>\n",
       "      <td>248 days</td>\n",
       "    </tr>\n",
       "  </tbody>\n",
       "</table>\n",
       "</div>"
      ],
      "text/plain": [
       "      ad_id     date_x      date_y  community_id create_date     razn\n",
       "32    10012 2019-04-05  2020-05-07    -130603160  2018-07-28 251 days\n",
       "777  111525 2019-04-04  2020-05-07    -130799543  2018-07-28 250 days\n",
       "320   35954 2019-04-04  2020-05-07    -130305568  2018-07-28 250 days\n",
       "74    15685 2019-04-04  2020-05-07    -130687424  2018-07-29 249 days\n",
       "105   18034 2019-04-04  2020-05-07    -130811305  2018-07-30 248 days"
      ]
     },
     "execution_count": 63,
     "metadata": {},
     "output_type": "execute_result"
    }
   ],
   "source": [
    "ads_merge.sort_values('razn',ascending=False).head()"
   ]
  },
  {
   "cell_type": "code",
   "execution_count": 64,
   "id": "21746484",
   "metadata": {},
   "outputs": [
    {
     "data": {
      "text/plain": [
       "Timedelta('124 days 16:33:49.430051814')"
      ]
     },
     "execution_count": 64,
     "metadata": {},
     "output_type": "execute_result"
    }
   ],
   "source": [
    "ads_merge.razn.mean()"
   ]
  },
  {
   "cell_type": "code",
   "execution_count": 77,
   "id": "ba13a2dd",
   "metadata": {},
   "outputs": [
    {
     "data": {
      "text/plain": [
       "(965, 6)"
      ]
     },
     "execution_count": 77,
     "metadata": {},
     "output_type": "execute_result"
    }
   ],
   "source": [
    "ads_merge.shape"
   ]
  },
  {
   "cell_type": "code",
   "execution_count": 76,
   "id": "a4c258f8",
   "metadata": {},
   "outputs": [
    {
     "data": {
      "text/html": [
       "<div>\n",
       "<style scoped>\n",
       "    .dataframe tbody tr th:only-of-type {\n",
       "        vertical-align: middle;\n",
       "    }\n",
       "\n",
       "    .dataframe tbody tr th {\n",
       "        vertical-align: top;\n",
       "    }\n",
       "\n",
       "    .dataframe thead th {\n",
       "        text-align: right;\n",
       "    }\n",
       "</style>\n",
       "<table border=\"1\" class=\"dataframe\">\n",
       "  <thead>\n",
       "    <tr style=\"text-align: right;\">\n",
       "      <th></th>\n",
       "      <th>ad_id</th>\n",
       "      <th>date_x</th>\n",
       "      <th>date_y</th>\n",
       "      <th>community_id</th>\n",
       "      <th>create_date</th>\n",
       "      <th>razn</th>\n",
       "    </tr>\n",
       "  </thead>\n",
       "  <tbody>\n",
       "    <tr>\n",
       "      <th>0</th>\n",
       "      <td>2</td>\n",
       "      <td>2019-04-01</td>\n",
       "      <td>2020-05-07</td>\n",
       "      <td>-130304626</td>\n",
       "      <td>2019-02-10</td>\n",
       "      <td>50 days</td>\n",
       "    </tr>\n",
       "    <tr>\n",
       "      <th>1</th>\n",
       "      <td>3</td>\n",
       "      <td>2019-04-01</td>\n",
       "      <td>2020-05-07</td>\n",
       "      <td>-130462599</td>\n",
       "      <td>2019-01-25</td>\n",
       "      <td>66 days</td>\n",
       "    </tr>\n",
       "    <tr>\n",
       "      <th>2</th>\n",
       "      <td>1902</td>\n",
       "      <td>2019-04-03</td>\n",
       "      <td>2020-05-07</td>\n",
       "      <td>-130081277</td>\n",
       "      <td>2018-10-09</td>\n",
       "      <td>176 days</td>\n",
       "    </tr>\n",
       "    <tr>\n",
       "      <th>3</th>\n",
       "      <td>2064</td>\n",
       "      <td>2019-04-02</td>\n",
       "      <td>2020-05-07</td>\n",
       "      <td>-130847882</td>\n",
       "      <td>2019-02-14</td>\n",
       "      <td>47 days</td>\n",
       "    </tr>\n",
       "    <tr>\n",
       "      <th>4</th>\n",
       "      <td>2132</td>\n",
       "      <td>2019-04-03</td>\n",
       "      <td>2020-05-07</td>\n",
       "      <td>-130153297</td>\n",
       "      <td>2019-01-06</td>\n",
       "      <td>87 days</td>\n",
       "    </tr>\n",
       "    <tr>\n",
       "      <th>...</th>\n",
       "      <td>...</td>\n",
       "      <td>...</td>\n",
       "      <td>...</td>\n",
       "      <td>...</td>\n",
       "      <td>...</td>\n",
       "      <td>...</td>\n",
       "    </tr>\n",
       "    <tr>\n",
       "      <th>960</th>\n",
       "      <td>122004</td>\n",
       "      <td>2019-04-01</td>\n",
       "      <td>2020-05-07</td>\n",
       "      <td>-130906608</td>\n",
       "      <td>2019-01-24</td>\n",
       "      <td>67 days</td>\n",
       "    </tr>\n",
       "    <tr>\n",
       "      <th>961</th>\n",
       "      <td>122013</td>\n",
       "      <td>2019-04-04</td>\n",
       "      <td>2020-05-07</td>\n",
       "      <td>-130032486</td>\n",
       "      <td>2018-11-04</td>\n",
       "      <td>151 days</td>\n",
       "    </tr>\n",
       "    <tr>\n",
       "      <th>962</th>\n",
       "      <td>122023</td>\n",
       "      <td>2019-04-04</td>\n",
       "      <td>2020-05-07</td>\n",
       "      <td>-130823359</td>\n",
       "      <td>2018-11-29</td>\n",
       "      <td>126 days</td>\n",
       "    </tr>\n",
       "    <tr>\n",
       "      <th>963</th>\n",
       "      <td>122031</td>\n",
       "      <td>2019-04-05</td>\n",
       "      <td>2020-05-07</td>\n",
       "      <td>-130605132</td>\n",
       "      <td>2018-12-30</td>\n",
       "      <td>96 days</td>\n",
       "    </tr>\n",
       "    <tr>\n",
       "      <th>964</th>\n",
       "      <td>122078</td>\n",
       "      <td>2019-04-03</td>\n",
       "      <td>2020-05-07</td>\n",
       "      <td>-130558729</td>\n",
       "      <td>2019-01-22</td>\n",
       "      <td>71 days</td>\n",
       "    </tr>\n",
       "  </tbody>\n",
       "</table>\n",
       "<p>965 rows × 6 columns</p>\n",
       "</div>"
      ],
      "text/plain": [
       "      ad_id     date_x      date_y  community_id create_date     razn\n",
       "0         2 2019-04-01  2020-05-07    -130304626  2019-02-10  50 days\n",
       "1         3 2019-04-01  2020-05-07    -130462599  2019-01-25  66 days\n",
       "2      1902 2019-04-03  2020-05-07    -130081277  2018-10-09 176 days\n",
       "3      2064 2019-04-02  2020-05-07    -130847882  2019-02-14  47 days\n",
       "4      2132 2019-04-03  2020-05-07    -130153297  2019-01-06  87 days\n",
       "..      ...        ...         ...           ...         ...      ...\n",
       "960  122004 2019-04-01  2020-05-07    -130906608  2019-01-24  67 days\n",
       "961  122013 2019-04-04  2020-05-07    -130032486  2018-11-04 151 days\n",
       "962  122023 2019-04-04  2020-05-07    -130823359  2018-11-29 126 days\n",
       "963  122031 2019-04-05  2020-05-07    -130605132  2018-12-30  96 days\n",
       "964  122078 2019-04-03  2020-05-07    -130558729  2019-01-22  71 days\n",
       "\n",
       "[965 rows x 6 columns]"
      ]
     },
     "execution_count": 76,
     "metadata": {},
     "output_type": "execute_result"
    }
   ],
   "source": [
    "ads_merge[ads_merge.razn <= '365 days']"
   ]
  },
  {
   "cell_type": "code",
   "execution_count": 79,
   "id": "57495eb6",
   "metadata": {},
   "outputs": [
    {
     "data": {
      "text/plain": [
       "ad_id                     int64\n",
       "date_x           datetime64[ns]\n",
       "date_y                   object\n",
       "community_id              int64\n",
       "create_date      datetime64[ns]\n",
       "razn            timedelta64[ns]\n",
       "dtype: object"
      ]
     },
     "execution_count": 79,
     "metadata": {},
     "output_type": "execute_result"
    }
   ],
   "source": [
    "ads_merge.dtypes"
   ]
  },
  {
   "cell_type": "code",
   "execution_count": 83,
   "id": "c161483f",
   "metadata": {},
   "outputs": [
    {
     "data": {
      "text/plain": [
       "0       (30 days 00:00:00, 90 days 00:00:00]\n",
       "1       (30 days 00:00:00, 90 days 00:00:00]\n",
       "2      (90 days 00:00:00, 180 days 00:00:00]\n",
       "3       (30 days 00:00:00, 90 days 00:00:00]\n",
       "4       (30 days 00:00:00, 90 days 00:00:00]\n",
       "                       ...                  \n",
       "960     (30 days 00:00:00, 90 days 00:00:00]\n",
       "961    (90 days 00:00:00, 180 days 00:00:00]\n",
       "962    (90 days 00:00:00, 180 days 00:00:00]\n",
       "963    (90 days 00:00:00, 180 days 00:00:00]\n",
       "964     (30 days 00:00:00, 90 days 00:00:00]\n",
       "Name: razn, Length: 965, dtype: category\n",
       "Categories (4, interval[timedelta64[ns], right]): [(0 days 00:00:00, 30 days 00:00:00] < (30 days 00:00:00, 90 days 00:00:00] < (90 days 00:00:00, 180 days 00:00:00] < (180 days 00:00:00, 365 days 00:00:00]]"
      ]
     },
     "execution_count": 83,
     "metadata": {},
     "output_type": "execute_result"
    }
   ],
   "source": [
    "pd.cut(ads_merge.razn, pd.to_timedelta(['0 days', '30 days', '90 days', '180 days', '365 days']))"
   ]
  },
  {
   "cell_type": "code",
   "execution_count": 85,
   "id": "536b31d4",
   "metadata": {},
   "outputs": [],
   "source": [
    "ads_merge['cut'] = pd.cut(ads_merge.razn, pd.to_timedelta(['0 days', '30 days', '90 days', '180 days', '365 days']))"
   ]
  },
  {
   "cell_type": "code",
   "execution_count": 105,
   "id": "1f7974e1",
   "metadata": {},
   "outputs": [
    {
     "data": {
      "text/plain": [
       "(90 days 00:00:00, 180 days 00:00:00]     493\n",
       "(30 days 00:00:00, 90 days 00:00:00]      305\n",
       "(180 days 00:00:00, 365 days 00:00:00]    165\n",
       "(0 days 00:00:00, 30 days 00:00:00]         2\n",
       "Name: cut, dtype: int64"
      ]
     },
     "execution_count": 105,
     "metadata": {},
     "output_type": "execute_result"
    }
   ],
   "source": [
    "ads_merge['cut'].value_counts()"
   ]
  },
  {
   "cell_type": "code",
   "execution_count": null,
   "id": "bb0b2e2f",
   "metadata": {},
   "outputs": [],
   "source": []
  },
  {
   "cell_type": "code",
   "execution_count": null,
   "id": "7efcba2e",
   "metadata": {},
   "outputs": [],
   "source": []
  },
  {
   "cell_type": "code",
   "execution_count": null,
   "id": "fa6baca6",
   "metadata": {},
   "outputs": [],
   "source": []
  },
  {
   "cell_type": "code",
   "execution_count": null,
   "id": "a589ecb3",
   "metadata": {},
   "outputs": [],
   "source": []
  }
 ],
 "metadata": {
  "kernelspec": {
   "display_name": "Python 3 (ipykernel)",
   "language": "python",
   "name": "python3"
  },
  "language_info": {
   "codemirror_mode": {
    "name": "ipython",
    "version": 3
   },
   "file_extension": ".py",
   "mimetype": "text/x-python",
   "name": "python",
   "nbconvert_exporter": "python",
   "pygments_lexer": "ipython3",
   "version": "3.9.12"
  }
 },
 "nbformat": 4,
 "nbformat_minor": 5
}
